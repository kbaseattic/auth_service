{
 "metadata": {
  "name": "KBase Authorization"
 },
 "nbformat": 3,
 "nbformat_minor": 0,
 "worksheets": [
  {
   "cells": [
    {
     "cell_type": "markdown",
     "metadata": {},
     "source": [
      "Introduction\n",
      "============\n",
      "\n",
      "This iPython Notebook is a brief introduction to the overall design and architecture of the KBase Authorization Service as of May 2013. The authz service is considered to be an initial implementation providing core functionality for cross service authorization within the KBase environment. The design goal is to provide a lightweight service that stores assertions about the operations that users can perform on KBase documents - a service requiring authorization information must query the authz service and then enforce the permissions that are returned. When a relying service creates a new object, the relying service must assign the new document to an existing access control list in the authz service, or generate a new access control list for the new object.\n",
      "\n",
      "The overall design is in 2 major components:\n",
      "\n",
      "1. The [Globus Online Groups Service](http://www.nitrd.gov/nitrdgroups/images/6/64/MAGIC_Foster_November_2012.pdf) provides authentication and self-managed group membership. Globus Online manages a hierarchically structured set of groups, containing lists of users and some generic policies. Not actual authorization information is stored within Globus Online\n",
      "1. An internal REST oriented service that associates a set of allowed operations on documents with a group of users. The groups of users are pulled from Globus Online and stored locally. This allows authz queries to operate independent of Globus Online, and cuts down on network latency. The permissions are stored as JSON documents in the mongodb.kbase.us database, allowing them to be distributed, scaled and tuned as part of the core infrastructure and opening up the possibility that they can be accessed directly using the appropriate libraries."
     ]
    },
    {
     "cell_type": "markdown",
     "metadata": {},
     "source": [
      "<img src=\"files/authdemo/GroupsOverview.png\" width=800/>"
     ]
    },
    {
     "cell_type": "markdown",
     "metadata": {},
     "source": [
      "Globus Online Groups Management Interface\n",
      "=========================================\n",
      "\n",
      "Globus Online provides a relatively mature, skinnable identity and group management interface at gologin.kbase.us In addition to the basic identity/authentication services we have used so far, they also provide a *self-service* groups management interface accessible at https://gologin.kbase.us/Groups"
     ]
    },
    {
     "cell_type": "markdown",
     "metadata": {},
     "source": [
      "<img src=\"files/authdemo/GroupsGUI.png\" width=800/>"
     ]
    },
    {
     "cell_type": "markdown",
     "metadata": {},
     "source": [
      "Because Globus Online provides the authentication and group management interface as an independent service, KBase does not have __\"root\"__ access to arbitrary groups managed by Globus Online - users manage their own group membership by browsing for groups, creating their own groups, requesting membership in existing groups, or inviting others to groups they control.\n",
      "\n",
      "In this model, the KBase platform operates a tree of groups rooted at the \"kbase_users\" group. Once a user joins the kbase_users group, it is possible to administratively move/add/delete them from any child groups of kbase_users. Due to the decentralized model of Globus Online, it is not possible to draft/coerce an arbitrary Globus Online identity into kbase_users - membership must be consensual (at least, initially). In the diagram below, once a user has accepted membership in kbase_users, it is possible for the administrator/owner of this tree to add/remove the user to any child group - but not before they accept membership."
     ]
    },
    {
     "cell_type": "markdown",
     "metadata": {},
     "source": [
      "<img src=\"files/authdemo/KBaseGroupsTree.png\" width=800/>"
     ]
    },
    {
     "cell_type": "markdown",
     "metadata": {},
     "source": [
      "Note that in the diagram above, only the dark blue groups currently exist. The light blue groups are hypothetical groups to illustrate the hierarchy.\n",
      "\n",
      "The workaround we have for this is to automatically enroll any user that registers and account at gologin.kbase.us in the kbase_users group. In addition, if a user logs in at gologin.kbase.us, they will be prompted to join kbase_users as well. This lowers the administrative overhead of bringing users into our groups tree."
     ]
    },
    {
     "cell_type": "markdown",
     "metadata": {},
     "source": [
      "The Globus groups system can be accessed via the browser interface shown above, as well as a REST API. Globus provides a [python library](https://github.com/globusonline/python-nexus-client) that supports operations on the groups, in addition to direct access to the [rest API](http://globusonline.github.io/nexus-docs/api.html) with any http client library.\n",
      "\n",
      "Membership in a group causes membership to propagate upwards in the tree. For example, if a user accepts an invitation to the argonne group show above, they would automatically be propagated into the kbase_staff and kbase_users group. Group membership does *not* propagate downward. So becoming a member of kbase_users does not result in membership to either ProjectX, Enigma or kbase_staff.\n",
      "\n",
      "In addition, it is possible to set administrative properties such as member visibility, and the ability to create subgroups for individual groups."
     ]
    },
    {
     "cell_type": "markdown",
     "metadata": {},
     "source": [
      "<img src=\"files/authdemo/GroupPolicy.png\" width=800/>"
     ]
    },
    {
     "cell_type": "markdown",
     "metadata": {},
     "source": [
      "The exact layout of the tree is open to discussion based on appropriate use cases. However, the tree structure would probably create usability issues if the tree depth became too deep, so a flatter structure is recommended."
     ]
    },
    {
     "cell_type": "markdown",
     "metadata": {},
     "source": [
      "Internal KBase Authz Service\n",
      "============================\n",
      "\n",
      "The internal KBase authz service stores assertions about what operations a set of users is allowed to perform on documents. The REST service is a python/django application at the endpoint https://kbase.us/services/authorization/Roles\n",
      "Access is authenticated by the usual Authorization: OAuth *kbase token* headers, and access is restricted to members of the kbase_users group. A browser can access it using a REST plugin ( for Chrome I recommend [Advanced Rest Client](https://chrome.google.com/webstore/detail/advanced-rest-client/hgmloofddffdnphfgcellkdfbfbjeloo/reviews?hl=en-US))\n",
      "\n",
      "The service is documented in a [Google Doc](https://docs.google.com/a/lbl.gov/document/d/1-43UvESzSYtLInqOouBE1s97a6-cRuPghbNJopYeU5Y/edit#) that is fairly complete. Note that the Roles defined within the KBase authz service are \"flat\", the hierarchy of the Globus Online Groups system is only reflected in membership inheritance, and in the names of Globus Groups used for automatically updating user rosters.\n",
      "\n",
      "\n",
      "Structure of Roles\n",
      "------------------\n",
      "\n",
      "For a complete description please see the [main API documentation]((https://docs.google.com/a/lbl.gov/document/d/1-43UvESzSYtLInqOouBE1s97a6-cRuPghbNJopYeU5Y/edit#)). The brief introduction is that the Roles are JSON documents that map a set of users (possibly pulled from Globus Online) to operations on sets of documents. Here is an example:\n",
      "\n",
      "    {\n",
      "        \"role_updater\": [\n",
      "            \"sychan\",\n",
      "            \"kbauthorz\",\n",
      "            \"thomasoniii\",\n",
      "            \"devoid\",\n",
      "            \"wilke\",\n",
      "            \"teharrison\"\n",
      "        ],\n",
      "        \"description\": \"List of user ids who are considered KBase users\",\n",
      "        \"read\": [],\n",
      "        \"create\": [],\n",
      "        \"modify\": [],\n",
      "        \"role_owner\": \"sychan\",\n",
      "        \"role_id\": \"kbase_users\",\n",
      "        \"impersonate\": [],\n",
      "        \"members\": [\n",
      "            \"kbasetest\",\n",
      "            \"sspoon\",\n",
      "            \"kycl4rk\",\n",
      "            \"seaver\",\n",
      "            \"devoid\",\n",
      "            \"ranantha\",\n",
      "            \"kbauthorz\",\n",
      "            \"landml\",\n",
      "            \"psdehal\",\n",
      "            \"kbasegroups\",\n",
      "            \"wjriehl\",\n",
      "            \"sychan\",\n",
      "            \"annettegreiner\",\n",
      "            \"thomasoniii\",\n",
      "            \"nlharris\",\n",
      "            \"wilke\"\n",
      "        ],\n",
      "        \"_id\": \"5069f456f43dc373bb677d94\",\n",
      "        \"globus_group\": \"/kbase_users\",\n",
      "        \"delete\": []\n",
      "    }\n",
      "\n",
      "This role is the placeholder at the root of the kbase groups tree, and merely contains a list of users, with no document associated with the *verbs* of:\n",
      "\n",
      "* read\n",
      "* create\n",
      "* modify\n",
      "* impersonate\n",
      "* delete\n",
      "\n",
      "The globus_group attribute is used to refer to a group in Globus Online that is polled to retrieve current group members. It is structured like a directory path rooted at /kbase_users."
     ]
    },
    {
     "cell_type": "markdown",
     "metadata": {},
     "source": [
      "Example Uses\n",
      "============\n",
      "\n",
      "In the first example, we show python code to acquire a Globus token using the python client libraries (using implicit ssh-agent authentication) and then we get a listing of the currently defined roles in the authz service.\n",
      "\n",
      "Acquire a Token (Python version)\n",
      "--------------------------------"
     ]
    },
    {
     "cell_type": "code",
     "collapsed": false,
     "input": [
      "import requests\n",
      "import biokbase.Auth\n",
      "import os\n",
      "import pprint\n",
      "from IPython.core.display import Image\n",
      "\n",
      "token = biokbase.Auth.Token( user_id = 'sychan')\n",
      "s = requests.Session( headers = { 'Authorization' : 'OAuth ' + token.token,\n",
      "                                  'content-type': 'application/json'})"
     ],
     "language": "python",
     "metadata": {},
     "outputs": [],
     "prompt_number": 80
    },
    {
     "cell_type": "markdown",
     "metadata": {},
     "source": [
      "List Currently Defined Roles\n",
      "----------------------------\n",
      "\n",
      "We use the session object **s** defined above to query the root of the REST service."
     ]
    },
    {
     "cell_type": "code",
     "collapsed": false,
     "input": [
      "response = s.get( 'https://kbase.us/services/authorization/Roles')\n",
      "print response.content"
     ],
     "language": "python",
     "metadata": {},
     "outputs": [
      {
       "output_type": "stream",
       "stream": "stdout",
       "text": [
        "[\n",
        "    \"kbase_test\",\n",
        "    \"kbase_test_users\",\n",
        "    \"test_123\",\n",
        "    \"sychan_test\",\n",
        "    \"kbase_users2\",\n",
        "    \"kbase_users\",\n",
        "    \"kbase_staff\"\n",
        "]\n"
       ]
      }
     ],
     "prompt_number": 68
    },
    {
     "cell_type": "markdown",
     "metadata": {},
     "source": [
      "Get Basic Self Documentation\n",
      "----------------------------\n",
      "\n",
      "The **about** URL parameter provides a short description of the service:\n"
     ]
    },
    {
     "cell_type": "code",
     "collapsed": false,
     "input": [
      "response = s.get( 'https://kbase.us/services/authorization/Roles?about')\n",
      "print response.content"
     ],
     "language": "python",
     "metadata": {},
     "outputs": [
      {
       "output_type": "stream",
       "stream": "stdout",
       "text": [
        "[\n",
        "    {\n",
        "        \"documentation\": \"https://docs.google.com/document/d/1CTkthDUPwNzMF22maLyNIktI1sHdWPwtd3lJk0aFb20/edit\",\n",
        "        \"documentation2\": \"https://docs.google.com/document/d/1-43UvESzSYtLInqOouBE1s97a6-cRuPghbNJopYeU5Y/edit\",\n",
        "        \"contact\": {\n",
        "            \"email\": \"sychan@lbl.gov\"\n",
        "        },\n",
        "        \"usage\": \"This is a standard REST service. Note that read handler takes MongoDB filtering and JSON field selection options passed as URL parameters 'filter' and 'fields' respectively. For example, to get a list of all role_id's use: /Roles/?filter={ \\\"role_id\\\" : { \\\"$regex\\\" : \\\".*\\\" }}&fields={ \\\"role_id\\\" : \\\"1\\\"} Please look at MongoDB pymongo collection documentation for details. Read and Create are currently open to all authenticated users in role \\\"kbase_users\\\", butdelete requires ownership of the document (in field role_owner), update requires ownership or membership in the target document's role_updaters list.\",\n",
        "        \"id\": \"KBase Authorization\",\n",
        "        \"resources\": {\n",
        "            \"role_updater\": \"User_ids that can update this role\",\n",
        "            \"description\": \"Description of the role (required)\",\n",
        "            \"grant\": \"List of kbase authz role_ids (strings) that this role allows grant privs\",\n",
        "            \"read\": \"List of kbase object ids (strings) that this role allows read privs\",\n",
        "            \"create\": \"Boolean value - does this role provide the create privilege\",\n",
        "            \"modify\": \"List of kbase object ids (strings) that this role allows modify privs\",\n",
        "            \"role_owner\": \"Owner(creator) of this role\",\n",
        "            \"role_id\": \"Unique human readable identifer for role (required)\",\n",
        "            \"impersonate\": \"List of kbase user_ids (strings) that this role allows impersonate privs\",\n",
        "            \"members\": \"A list of the user_ids who are members of this group\",\n",
        "            \"owns\": \"List of document_ids that are owned by the role_owner and role_updaters\",\n",
        "            \"globus_group\": \"Optional group path in Globus Online that is used to synchronize members field\",\n",
        "            \"delete\": \"List of kbase object ids (strings) that this role allows delete privs\"\n",
        "        }\n",
        "    }\n",
        "]\n"
       ]
      }
     ],
     "prompt_number": 81
    },
    {
     "cell_type": "markdown",
     "metadata": {},
     "source": [
      "Examine a Role in Python, Perl\n",
      "------------------------------\n",
      "\n",
      "In the following section, we query the service for the contents of the kbase_users role using Python. We then use the %%perl magic of the iPython Notebook to run comparable sample code in Perl as an example for Perl developers.\n"
     ]
    },
    {
     "cell_type": "code",
     "collapsed": false,
     "input": [
      "response = s.get( 'https://kbase.us/services/authorization/Roles/kbase_users')\n",
      "print response.content"
     ],
     "language": "python",
     "metadata": {},
     "outputs": [
      {
       "output_type": "stream",
       "stream": "stdout",
       "text": [
        "[\n",
        "    {\n",
        "        \"role_updater\": [\n",
        "            \"sychan\",\n",
        "            \"kbauthorz\",\n",
        "            \"thomasoniii\",\n",
        "            \"devoid\",\n",
        "            \"wilke\",\n",
        "            \"teharrison\"\n",
        "        ],\n",
        "        \"description\": \"List of user ids who are considered KBase users\",\n",
        "        \"read\": [],\n",
        "        \"create\": [],\n",
        "        \"modify\": [],\n",
        "        \"role_owner\": \"sychan\",\n",
        "        \"role_id\": \"kbase_users\",\n",
        "        \"impersonate\": [],\n",
        "        \"members\": [\n",
        "            \"kbasetest\",\n",
        "            \"sspoon\",\n",
        "            \"kycl4rk\",\n",
        "            \"seaver\",\n",
        "            \"devoid\",\n",
        "            \"ranantha\",\n",
        "            \"kbauthorz\",\n",
        "            \"landml\",\n",
        "            \"psdehal\",\n",
        "            \"kbasegroups\",\n",
        "            \"wjriehl\",\n",
        "            \"sychan\",\n",
        "            \"annettegreiner\",\n",
        "            \"thomasoniii\",\n",
        "            \"nlharris\",\n",
        "            \"wilke\"\n",
        "        ],\n",
        "        \"_id\": \"5069f456f43dc373bb677d94\",\n",
        "        \"globus_group\": \"/kbase_users\",\n",
        "        \"delete\": []\n",
        "    }\n",
        "]\n"
       ]
      }
     ],
     "prompt_number": 63
    },
    {
     "cell_type": "code",
     "collapsed": false,
     "input": [
      "%%perl\n",
      "use Bio::KBase::AuthToken;\n",
      "use REST::Client;\n",
      "use Data::Dumper;\n",
      "        \n",
      "$t = Bio::KBase::AuthToken->new( user_id => 'sychan');\n",
      "$client = REST::Client->new();\n",
      "$client->setHost( \"https://kbase.us/\");\n",
      "$client->addHeader( 'Authorization', 'OAuth ' . $t->token);\n",
      "$client->GET('services/authorization/Roles/kbase_users');\n",
      "print Dumper( $client->responseContent());"
     ],
     "language": "python",
     "metadata": {},
     "outputs": [
      {
       "output_type": "stream",
       "stream": "stdout",
       "text": [
        "$VAR1 = '[\n",
        "    {\n",
        "        \"role_updater\": [\n",
        "            \"sychan\",\n",
        "            \"kbauthorz\",\n",
        "            \"thomasoniii\",\n",
        "            \"devoid\",\n",
        "            \"wilke\",\n",
        "            \"teharrison\"\n",
        "        ],\n",
        "        \"description\": \"List of user ids who are considered KBase users\",\n",
        "        \"read\": [],\n",
        "        \"create\": [],\n",
        "        \"modify\": [],\n",
        "        \"role_owner\": \"sychan\",\n",
        "        \"role_id\": \"kbase_users\",\n",
        "        \"impersonate\": [],\n",
        "        \"members\": [\n",
        "            \"kbasetest\",\n",
        "            \"sspoon\",\n",
        "            \"kycl4rk\",\n",
        "            \"seaver\",\n",
        "            \"devoid\",\n",
        "            \"ranantha\",\n",
        "            \"kbauthorz\",\n",
        "            \"landml\",\n",
        "            \"psdehal\",\n",
        "            \"kbasegroups\",\n",
        "            \"wjriehl\",\n",
        "            \"sychan\",\n",
        "            \"annettegreiner\",\n",
        "            \"thomasoniii\",\n",
        "            \"nlharris\",\n",
        "            \"wilke\"\n",
        "        ],\n",
        "        \"_id\": \"5069f456f43dc373bb677d94\",\n",
        "        \"globus_group\": \"/kbase_users\",\n",
        "        \"delete\": []\n",
        "    }\n",
        "]';\n"
       ]
      }
     ],
     "prompt_number": 66
    },
    {
     "cell_type": "markdown",
     "metadata": {},
     "source": [
      "Creating a new role for an new KBase object\n",
      "-------------------------------------------\n",
      "\n",
      "It is often appropriate to create a new role to handle access control for a newly created object. We use the POST method to create a new role called \"kb_ws_species8472\" for a new workspace object called \"kb|ws.species8472\". Note that any correspondence between a role name in the authz service and object ID's in other services are purely a matter of convention at this point - it can be possible to enforce rules once such rules are determined."
     ]
    },
    {
     "cell_type": "code",
     "collapsed": false,
     "input": [
      "newrole = { \"role_updater\": [\"sychan\"],\n",
      "            \"description\": \"Role for workspace object Species8472\",\n",
      "            \"read\": [ 'kb|ws.species8472'],\n",
      "            \"create\": [ 'kb|ws.species8472'],\n",
      "            \"modify\": [ 'kb|ws.species8472'],\n",
      "            \"grant\" : ['kb|ws.species8472' ],\n",
      "            \"role_owner\": \"sychan\",\n",
      "            \"role_id\": \"kb_ws_species8472\",\n",
      "            \"impersonate\": [],\n",
      "            \"members\": [\"sychan\",\"kbasetest\",\"psdehal\"],\n",
      "            \"delete\": [ 'kb|ws.species8472' ],\n",
      "            \"owns\": ['kb|ws.species8472'],\n",
      "            \"globus_group\": \"\"\n",
      "           }\n",
      "import json\n",
      "response = s.post( url='https://kbase.us/services/authorization/Roles', data=json.dumps(newrole))\n",
      "print response.content"
     ],
     "language": "python",
     "metadata": {},
     "outputs": [
      {
       "output_type": "stream",
       "stream": "stdout",
       "text": [
        "Created\n"
       ]
      }
     ],
     "prompt_number": 98
    },
    {
     "cell_type": "markdown",
     "metadata": {},
     "source": [
      "Querying for all roles that contain a user\n",
      "------------------------------------------\n",
      "\n",
      "A common use is to query the service for all the roles that include a user. The API includes some shortcuts using URL variables to support this and other common operations.\n"
     ]
    },
    {
     "cell_type": "code",
     "collapsed": false,
     "input": [
      "# Query for all roles that contain user 'sychan'\n",
      "response = s.get( 'https://kbase.us/services/authorization/Roles?user_id=sychan')\n",
      "print response.content"
     ],
     "language": "python",
     "metadata": {},
     "outputs": [
      {
       "output_type": "stream",
       "stream": "stdout",
       "text": [
        "[\n",
        "    {\n",
        "        \"role_updater\": [\n",
        "            \"sychan\",\n",
        "            \"kbauthorz\"\n",
        "        ],\n",
        "        \"description\": \"Steve's test role\",\n",
        "        \"read\": [],\n",
        "        \"create\": [],\n",
        "        \"modify\": [],\n",
        "        \"role_owner\": \"sychan\",\n",
        "        \"role_id\": \"sychan_test\",\n",
        "        \"impersonate\": [],\n",
        "        \"members\": [\n",
        "            \"wilke\",\n",
        "            \"psdehal\",\n",
        "            \"nlharris\",\n",
        "            \"sychan\",\n",
        "            \"kbasegroups\"\n",
        "        ],\n",
        "        \"_id\": \"5069f4f1f43dc373bb677d95\",\n",
        "        \"delete\": []\n",
        "    },\n",
        "    {\n",
        "        \"role_updater\": [\n",
        "            \"sychan\",\n",
        "            \"kbauthorz\",\n",
        "            \"thomasoniii\",\n",
        "            \"devoid\",\n",
        "            \"wilke\",\n",
        "            \"teharrison\"\n",
        "        ],\n",
        "        \"description\": \"List of user ids who are considered KBase users\",\n",
        "        \"read\": [],\n",
        "        \"create\": [],\n",
        "        \"modify\": [],\n",
        "        \"role_owner\": \"sychan\",\n",
        "        \"role_id\": \"kbase_users2\",\n",
        "        \"impersonate\": [],\n",
        "        \"members\": [\n",
        "            \"kbasetest\",\n",
        "            \"landml\",\n",
        "            \"kbauthorz\",\n",
        "            \"sspoon\",\n",
        "            \"psdehal\",\n",
        "            \"kbasegroups\",\n",
        "            \"kycl4rk\",\n",
        "            \"seaver\",\n",
        "            \"devoid\",\n",
        "            \"annettegreiner\",\n",
        "            \"sychan\",\n",
        "            \"nlharris\",\n",
        "            \"wilke\",\n",
        "            \"ranantha\",\n",
        "            \"thomasoniii\"\n",
        "        ],\n",
        "        \"_id\": \"512418de90f4719aaa333c0a\",\n",
        "        \"delete\": []\n",
        "    },\n",
        "    {\n",
        "        \"role_updater\": [\n",
        "            \"sychan\",\n",
        "            \"kbauthorz\",\n",
        "            \"thomasoniii\",\n",
        "            \"devoid\",\n",
        "            \"wilke\",\n",
        "            \"teharrison\"\n",
        "        ],\n",
        "        \"description\": \"List of user ids who are considered KBase users\",\n",
        "        \"read\": [],\n",
        "        \"create\": [],\n",
        "        \"modify\": [],\n",
        "        \"role_owner\": \"sychan\",\n",
        "        \"role_id\": \"kbase_users\",\n",
        "        \"impersonate\": [],\n",
        "        \"members\": [\n",
        "            \"kbasetest\",\n",
        "            \"sspoon\",\n",
        "            \"kycl4rk\",\n",
        "            \"seaver\",\n",
        "            \"devoid\",\n",
        "            \"ranantha\",\n",
        "            \"kbauthorz\",\n",
        "            \"landml\",\n",
        "            \"psdehal\",\n",
        "            \"kbasegroups\",\n",
        "            \"wjriehl\",\n",
        "            \"sychan\",\n",
        "            \"annettegreiner\",\n",
        "            \"thomasoniii\",\n",
        "            \"nlharris\",\n",
        "            \"wilke\"\n",
        "        ],\n",
        "        \"_id\": \"5069f456f43dc373bb677d94\",\n",
        "        \"globus_group\": \"/kbase_users\",\n",
        "        \"delete\": []\n",
        "    },\n",
        "    {\n",
        "        \"role_updater\": [\n",
        "            \"sychan\"\n",
        "        ],\n",
        "        \"description\": \"Role for workspace object Species8472\",\n",
        "        \"grant\": [\n",
        "            \"kb|ws.species8472\"\n",
        "        ],\n",
        "        \"read\": [\n",
        "            \"kb|ws.species8472\"\n",
        "        ],\n",
        "        \"create\": [\n",
        "            \"kb|ws.species8472\"\n",
        "        ],\n",
        "        \"modify\": [\n",
        "            \"kb|ws.species8472\"\n",
        "        ],\n",
        "        \"role_owner\": \"sychan\",\n",
        "        \"role_id\": \"kb_ws_species8472\",\n",
        "        \"impersonate\": [],\n",
        "        \"members\": [\n",
        "            \"kbasetest\",\n",
        "            \"psdehal\",\n",
        "            \"sychan\"\n",
        "        ],\n",
        "        \"owns\": [\n",
        "            \"kb|ws.species8472\"\n",
        "        ],\n",
        "        \"_id\": \"518a98cf7bc3ca5433df7570\",\n",
        "        \"globus_group\": \"\",\n",
        "        \"delete\": [\n",
        "            \"kb|ws.species8472\"\n",
        "        ]\n",
        "    }\n",
        "]\n"
       ]
      }
     ],
     "prompt_number": 102
    },
    {
     "cell_type": "markdown",
     "metadata": {},
     "source": [
      "Query for user and document ID\n",
      "------------------------------\n",
      "\n",
      "Another common use case is to find what privs a user has on a particular object. Let's add an additional filtering clause to the previous query and say we only want to see the roles for sychan and object names 'kb_ws_species8472'. We show the version with all the individual roles, but it is possible to request a union of all the roles into a super-role that is a single document with all rights merged in."
     ]
    },
    {
     "cell_type": "code",
     "collapsed": false,
     "input": [
      "# Query for all roles that contain user 'sychan' and referencing \"kb|ws.specieas8472\"\n",
      "params = { 'user_id' : 'sychan',\n",
      "           'doc_id' : 'kb|ws.species8472' }\n",
      "response = s.get( 'https://kbase.us/services/authorization/Roles', params = params)\n",
      "print response.content"
     ],
     "language": "python",
     "metadata": {},
     "outputs": [
      {
       "output_type": "stream",
       "stream": "stdout",
       "text": [
        "[\n",
        "    {\n",
        "        \"role_updater\": [\n",
        "            \"sychan\"\n",
        "        ],\n",
        "        \"description\": \"Role for workspace object Species8472\",\n",
        "        \"grant\": [\n",
        "            \"kb|ws.species8472\"\n",
        "        ],\n",
        "        \"read\": [\n",
        "            \"kb|ws.species8472\"\n",
        "        ],\n",
        "        \"create\": [\n",
        "            \"kb|ws.species8472\"\n",
        "        ],\n",
        "        \"modify\": [\n",
        "            \"kb|ws.species8472\"\n",
        "        ],\n",
        "        \"role_owner\": \"sychan\",\n",
        "        \"role_id\": \"kb_ws_species8472\",\n",
        "        \"impersonate\": [],\n",
        "        \"members\": [\n",
        "            \"kbasetest\",\n",
        "            \"psdehal\",\n",
        "            \"sychan\"\n",
        "        ],\n",
        "        \"owns\": [\n",
        "            \"kb|ws.species8472\"\n",
        "        ],\n",
        "        \"globus_group\": \"\",\n",
        "        \"delete\": [\n",
        "            \"kb|ws.species8472\"\n",
        "        ]\n",
        "    }\n",
        "]\n"
       ]
      }
     ],
     "prompt_number": 103
    },
    {
     "cell_type": "markdown",
     "metadata": {},
     "source": [
      "Delete a role for a defunct object\n",
      "----------------------------------\n",
      "\n",
      "So, species8472 disappears from the workspace. Lets delete the role."
     ]
    },
    {
     "cell_type": "code",
     "collapsed": false,
     "input": [
      "response = s.delete( url='https://kbase.us/services/authorization/Roles/kb_ws_species8472')\n",
      "print response.status_code"
     ],
     "language": "python",
     "metadata": {},
     "outputs": [
      {
       "output_type": "stream",
       "stream": "stdout",
       "text": [
        "204\n"
       ]
      }
     ],
     "prompt_number": 104
    },
    {
     "cell_type": "markdown",
     "metadata": {},
     "source": [
      "Conclusion\n",
      "==========\n",
      "\n",
      "There are a lot of additional features available in the API docs, but the usage is basically the same as the examples given. The remaining issues that need to be resolved are:\n",
      "\n",
      "* a common namespace for KBase objects so that we don't have collisions and/or ambiguity\n",
      "* a convention for how we want to manage the tree of user groups\n",
      "* additional features to support actual use cases\n",
      "* tweaking the REST API so that it is more featureful in terms of REST support. It is currently REST-ish and not fully rest compliant"
     ]
    }
   ],
   "metadata": {}
  }
 ]
}